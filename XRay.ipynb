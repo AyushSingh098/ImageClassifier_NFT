{
 "cells": [
  {
   "cell_type": "code",
   "execution_count": 2,
   "metadata": {},
   "outputs": [],
   "source": [
    "#Required Libraries\n",
    "#provides function for plotting graph\n",
    "import matplotlib.pyplot as plt  \n",
    "\n",
    "#provides functions for implementing Deep Learning Model\n",
    "import tensorflow as tf          \n",
    "\n",
    "# provides functions for pre-processing the data. \n",
    "import numpy as np\n",
    "import pandas as pd\n",
    "from sklearn.preprocessing import LabelEncoder\n",
    "from sklearn.utils import  shuffle\n",
    "from sklearn.model_selection import train_test_split"
   ]
  },
  {
   "cell_type": "code",
   "execution_count": null,
   "metadata": {},
   "outputs": [],
   "source": [
    "#Read the X-Ray Images dataset\n",
    "df = pd.read_csv(\"xraydata.csv\")\n",
    "print(len(df.columns))\n",
    "X = df[df.columns[0:60]].values\n",
    "y = df[df.columns[60]]\n",
    "\n",
    "#encode the dependent variable as it has two categorical values\n",
    "encoder = LabelEncoder()\n",
    "encoder.fit(y)\n",
    "y = encoder.transform(y)\n",
    "Y = one_hot_encode(y)"
   ]
  },
  {
   "cell_type": "code",
   "execution_count": null,
   "metadata": {},
   "outputs": [],
   "source": [
    "#function for applying one_hot_encoder\n",
    "def one_hot_encode(labels):\n",
    "  n_labels = len(labels)\n",
    "  n_unique_labels = len(np.unique(labels))\n",
    "  one_hot_encode = np.zeros((n_labels,n_unique_labels))\n",
    "  one_hot_encode[np.arange(n_labels), labels] = 1\n",
    "  return one_hot_encode"
   ]
  },
  {
   "cell_type": "code",
   "execution_count": null,
   "metadata": {},
   "outputs": [],
   "source": [
    "#Divide the data in training and test subset\n",
    "X,Y = shuffle(X,Y,random_state=1)\n",
    "train_x,test_x,train_y,test_y = train_test_split(X,Y,test_size=0.20, random_state=42)"
   ]
  },
  {
   "cell_type": "code",
   "execution_count": null,
   "metadata": {},
   "outputs": [],
   "source": [
    "#define all the variables to work with the tensors\n",
    "learning_rate = 0.1\n",
    "training_epochs = 1000\n",
    "\n",
    "cost_history = np.empty(shape=[1],dtype=float)\n",
    "\n",
    "n_dim = X.shape[1]\n",
    "n_class = 2\n",
    "\n",
    "x = tf.placeholder(tf.float32,[None,n_dim])\n",
    "W = tf.Variable(tf.zeros([n_dim,n_class]))\n",
    "b = tf.Variable(tf.zeros([n_class])"
   ]
  },
  {
   "cell_type": "code",
   "execution_count": null,
   "metadata": {},
   "outputs": [],
   "source": [
    "y_ = tf.placeholder(tf.float32,[None,n_class])\n",
    "y = tf.nn.softmax(tf.matmul(x, W)+ b)\n",
    "cost_function = tf.reduce_mean(-tf.reduce_sum((y_ * tf.log(y)),reduction_indices=[1]))\n",
    "training_step = tf.train.GradientDescentOptimizer(learning_rate).minimize(cost_function)"
   ]
  },
  {
   "cell_type": "code",
   "execution_count": null,
   "metadata": {},
   "outputs": [],
   "source": [
    "#Minimizing the cost for each epoch\n",
    "for epoch in range(training_epochs):\n",
    "    sess.run(training_step,feed_dict={x:train_x,y_:train_y})\n",
    "    cost = sess.run(cost_function,feed_dict={x: train_x,y_: train_y})\n",
    "    cost_history = np.append(cost_history,cost)\n",
    "    print('epoch : ', epoch,  ' - ', 'cost: ', cost)"
   ]
  },
  {
   "cell_type": "code",
   "execution_count": null,
   "metadata": {},
   "outputs": [],
   "source": [
    "#Run the trained model on test subset\n",
    "pred_y = sess.run(y, feed_dict={x: test_x})\n",
    "\n",
    "#calculate the correct predictions\n",
    "correct_prediction = tf.equal(tf.argmax(pred_y,1), tf.argmax(test_y,1))\n",
    "accuracy = tf.reduce_mean(tf.cast(correct_prediction, tf.float32))\n",
    "print(&amp;amp;amp;quot;Accuracy: &amp;amp;amp;quot;,sess.run(accuracy))"
   ]
  }
 ],
 "metadata": {
  "kernelspec": {
   "display_name": "Python 2",
   "language": "python",
   "name": "python2"
  },
  "language_info": {
   "codemirror_mode": {
    "name": "ipython",
    "version": 2
   },
   "file_extension": ".py",
   "mimetype": "text/x-python",
   "name": "python",
   "nbconvert_exporter": "python",
   "pygments_lexer": "ipython2",
   "version": "2.7.15"
  }
 },
 "nbformat": 4,
 "nbformat_minor": 2
}
