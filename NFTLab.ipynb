{
 "cells": [
  {
   "cell_type": "code",
   "execution_count": 19,
   "metadata": {},
   "outputs": [],
   "source": [
    "import os\n",
    "from PIL import Image"
   ]
  },
  {
   "cell_type": "code",
   "execution_count": 20,
   "metadata": {},
   "outputs": [],
   "source": [
    "os.chdir(r\"/Users/ayushsingh/Desktop/NFT\")\n",
    "def rename_reshape():\n",
    "    for f in os.listdir():\n",
    "        img=Image.open(f)\n",
    "        img=img.resize((300,200),Image.ANTIALAS)\n",
    "        img.save(str(i).zfill(3)+\"jpeg\")\n",
    "        i=i+1"
   ]
  },
  {
   "cell_type": "code",
   "execution_count": 21,
   "metadata": {},
   "outputs": [],
   "source": [
    "import numpy as np"
   ]
  },
  {
   "cell_type": "code",
   "execution_count": 22,
   "metadata": {},
   "outputs": [
    {
     "name": "stdout",
     "output_type": "stream",
     "text": [
      "190\n",
      "270\n"
     ]
    }
   ],
   "source": [
    "img=Image.open(r\"/Users/ayushsingh/Desktop/NFT/NXray1.jpg\")\n",
    "x,y = img.size\n",
    "print(x)\n",
    "print(y)"
   ]
  },
  {
   "cell_type": "code",
   "execution_count": 23,
   "metadata": {},
   "outputs": [
    {
     "name": "stdout",
     "output_type": "stream",
     "text": [
      "300\n",
      "200\n"
     ]
    }
   ],
   "source": [
    "img=Image.open(r\"/Users/ayushsingh/Desktop/NFT/NXray1.jpg\")\n",
    "img=img.resize((300,200),Image.ANTIALIAS)\n",
    "img.save(str(i).zfill(3)+'jpeg',\"JPEG\")\n",
    "x,y = img.size\n",
    "print(x)\n",
    "print(y)"
   ]
  },
  {
   "cell_type": "code",
   "execution_count": 43,
   "metadata": {},
   "outputs": [],
   "source": [
    "os.chdir(r\"/Users/ayushsingh/Desktop/NFT\")\n",
    "i=1\n",
    "for f in os.listdir(r\"/Users/ayushsingh/Desktop/NFT\"):\n",
    "    img=Image.open(f)\n",
    "    img=img.resize((300,200),Image.ANTIALIAS)\n",
    "    img.save(str(i).zfill(3)+'.jpeg',\"JPEG\")\n",
    "    i=i+1"
   ]
  },
  {
   "cell_type": "code",
   "execution_count": 47,
   "metadata": {},
   "outputs": [
    {
     "ename": "ValueError",
     "evalue": "invalid literal for int() with base 10: 'Xray27'",
     "output_type": "error",
     "traceback": [
      "\u001b[0;31m---------------------------------------------------------------------------\u001b[0m",
      "\u001b[0;31mValueError\u001b[0m                                Traceback (most recent call last)",
      "\u001b[0;32m<ipython-input-47-5d200a36467e>\u001b[0m in \u001b[0;36m<module>\u001b[0;34m()\u001b[0m\n\u001b[1;32m      6\u001b[0m \u001b[0;32mfor\u001b[0m \u001b[0mf\u001b[0m \u001b[0;32min\u001b[0m \u001b[0mos\u001b[0m\u001b[0;34m.\u001b[0m\u001b[0mlistdir\u001b[0m\u001b[0;34m(\u001b[0m\u001b[0;34mr\"/Users/ayushsingh/Desktop/NFT\"\u001b[0m\u001b[0;34m)\u001b[0m\u001b[0;34m:\u001b[0m\u001b[0;34m\u001b[0m\u001b[0m\n\u001b[1;32m      7\u001b[0m     \u001b[0mx\u001b[0m\u001b[0;34m,\u001b[0m\u001b[0my\u001b[0m\u001b[0;34m=\u001b[0m\u001b[0mos\u001b[0m\u001b[0;34m.\u001b[0m\u001b[0mpath\u001b[0m\u001b[0;34m.\u001b[0m\u001b[0msplitext\u001b[0m\u001b[0;34m(\u001b[0m\u001b[0mf\u001b[0m\u001b[0;34m)\u001b[0m\u001b[0;34m\u001b[0m\u001b[0m\n\u001b[0;32m----> 8\u001b[0;31m     \u001b[0;32mif\u001b[0m \u001b[0mint\u001b[0m\u001b[0;34m(\u001b[0m\u001b[0mx\u001b[0m\u001b[0;34m.\u001b[0m\u001b[0mlstrip\u001b[0m\u001b[0;34m(\u001b[0m\u001b[0;34m'0'\u001b[0m\u001b[0;34m)\u001b[0m\u001b[0;34m)\u001b[0m\u001b[0;34m<=\u001b[0m\u001b[0;36m50\u001b[0m\u001b[0;34m:\u001b[0m\u001b[0;34m\u001b[0m\u001b[0m\n\u001b[0m\u001b[1;32m      9\u001b[0m         \u001b[0mmydata\u001b[0m\u001b[0;34m.\u001b[0m\u001b[0mappend\u001b[0m\u001b[0;34m(\u001b[0m\u001b[0;34m[\u001b[0m\u001b[0mf\u001b[0m\u001b[0;34m.\u001b[0m\u001b[0mstrip\u001b[0m\u001b[0;34m(\u001b[0m\u001b[0;34m)\u001b[0m\u001b[0;34m,\u001b[0m\u001b[0;36m1\u001b[0m\u001b[0;34m]\u001b[0m\u001b[0;34m)\u001b[0m\u001b[0;34m\u001b[0m\u001b[0m\n\u001b[1;32m     10\u001b[0m     \u001b[0;32melse\u001b[0m\u001b[0;34m:\u001b[0m\u001b[0;34m\u001b[0m\u001b[0m\n",
      "\u001b[0;31mValueError\u001b[0m: invalid literal for int() with base 10: 'Xray27'"
     ]
    }
   ],
   "source": [
    "import csv\n",
    "import os\n",
    "import pandas as pd\n",
    "os.chdir(r\"/Users/ayushsingh/Desktop/NFT\")\n",
    "mydata=list()\n",
    "for f in os.listdir(r\"/Users/ayushsingh/Desktop/NFT\"):\n",
    "    x,y=os.path.splitext(f)\n",
    "    if int(x.lstrip('0'))<=5:\n",
    "        mydata.append([f.strip(),1])\n",
    "    else:\n",
    "        mydata.append([f.strip(),-1])\n",
    "with open(\"trail.csv\",\"w\", newline = '') as myfile:\n",
    "    wr=csv.writer(myfile)\n",
    "    wr.writerows(mydata)\n",
    "df = pd.read_csv(r\"/Users/ayushsingh/Desktop/NFT/trail.csv\", header=None)\n",
    "df.rename(columns={0: \"Image\", 1: \"label\"}, inplace=True)\n",
    "df.to_csv(r\"/Users/ayushsingh/Desktop/NFT/Final.csv\", index=False) # save to new csv file"
   ]
  },
  {
   "cell_type": "code",
   "execution_count": null,
   "metadata": {},
   "outputs": [],
   "source": [
    "import cv2\n",
    "from PIL import Image\n",
    "import numpy as np\n",
    "img = cv2.imread(r\"Users/ayushsingh/Desktop/NFT/001.jpeg\", 0)\n",
    "img2 = Image.open(r\"Users/ayushsingh/Desktop/NFT/001.jpeg\")"
   ]
  },
  {
   "cell_type": "code",
   "execution_count": null,
   "metadata": {},
   "outputs": [],
   "source": [
    "#x,y = img2.size\n",
    "#print(x)\n",
    "#print(y)\n",
    "#for i in range(0,x):\n",
    " #   for j in range(0,y):\n",
    "  #      print(img[i][j])\n",
    "X = np.array(img)\n",
    "X = X.flatten()\n",
    "print(X)\n",
    "print(X.ndim)\n",
    "print(X.size)"
   ]
  },
  {
   "cell_type": "code",
   "execution_count": 3,
   "metadata": {},
   "outputs": [
    {
     "ename": "OSError",
     "evalue": "[Errno 2] No such file or directory: 'Users/ayushsingh/Desktop/NFT'",
     "output_type": "error",
     "traceback": [
      "\u001b[0;31m---------------------------------------------------------------------------\u001b[0m",
      "\u001b[0;31mOSError\u001b[0m                                   Traceback (most recent call last)",
      "\u001b[0;32m<ipython-input-3-7e49ff074cbd>\u001b[0m in \u001b[0;36m<module>\u001b[0;34m()\u001b[0m\n\u001b[1;32m      7\u001b[0m \u001b[0;32mimport\u001b[0m \u001b[0mos\u001b[0m\u001b[0;34m\u001b[0m\u001b[0m\n\u001b[1;32m      8\u001b[0m \u001b[0;34m\u001b[0m\u001b[0m\n\u001b[0;32m----> 9\u001b[0;31m \u001b[0mos\u001b[0m\u001b[0;34m.\u001b[0m\u001b[0mchdir\u001b[0m\u001b[0;34m(\u001b[0m\u001b[0;34mr\"Users/ayushsingh/Desktop/NFT\"\u001b[0m\u001b[0;34m)\u001b[0m\u001b[0;34m\u001b[0m\u001b[0m\n\u001b[0m\u001b[1;32m     10\u001b[0m \u001b[0;32mclass\u001b[0m \u001b[0mPerceptron\u001b[0m\u001b[0;34m(\u001b[0m\u001b[0mobject\u001b[0m\u001b[0;34m)\u001b[0m\u001b[0;34m:\u001b[0m\u001b[0;34m\u001b[0m\u001b[0m\n\u001b[1;32m     11\u001b[0m     \u001b[0;32mdef\u001b[0m \u001b[0m__init__\u001b[0m\u001b[0;34m(\u001b[0m\u001b[0mself\u001b[0m\u001b[0;34m,\u001b[0m\u001b[0minput_size\u001b[0m\u001b[0;34m,\u001b[0m\u001b[0mlr\u001b[0m\u001b[0;34m=\u001b[0m\u001b[0;36m1\u001b[0m\u001b[0;34m,\u001b[0m\u001b[0mepochs\u001b[0m\u001b[0;34m=\u001b[0m\u001b[0;36m10\u001b[0m\u001b[0;34m)\u001b[0m\u001b[0;34m:\u001b[0m\u001b[0;31m# Constructor in python\u001b[0m\u001b[0;34m\u001b[0m\u001b[0m\n",
      "\u001b[0;31mOSError\u001b[0m: [Errno 2] No such file or directory: 'Users/ayushsingh/Desktop/NFT'"
     ]
    }
   ],
   "source": [
    "import cv2\n",
    "from PIL import Image\n",
    "import numpy as np\n",
    "import pandas as pd\n",
    "import csv\n",
    "import glob\n",
    "import os\n",
    "\n",
    "os.chdir(r\"Users/ayushsingh/Desktop/NFT\")\n",
    "class Perceptron(object):\n",
    "    def __init__(self,input_size,lr=1,epochs=10):# Constructor in python\n",
    "        self.W=np.zeros(input_size+1)# self in python denotes the class atrribute i.e it is data member of the class\n",
    "        self.lr=lr\n",
    "        print(self.W)\n",
    "        self.epochs=epochs\n",
    "    def activation_fn(self, x):\n",
    "        if x >= 0:\n",
    "            return 1\n",
    "        else:\n",
    "            return 0\n",
    "    def predict(self, x):\n",
    "        #x = np.insert(x, 0, 1)#insert capital B : x has all xi and ,\n",
    "        z = self.W.T.dot(x)#       Dot product with W i.e weight vectors wi=0 and b=0\n",
    "        print(\"The input vector:\")\n",
    "        print(x)\n",
    "        print(\"The weight vector:\")\n",
    "        print(self.W)\n",
    "        print(\"The dot product of weight vector and input vector:\")\n",
    "        print(z)\n",
    "        z = np.sum(z)\n",
    "        print(\"The final sum:\")\n",
    "        print(z)\n",
    "        a = self.activation_fn(z)\n",
    "        return a\n",
    "    def fit(self, X, d):\n",
    "        for _ in range(self.epochs):\n",
    "            for i in range(len(d)):#d is our target vector d.shape[0] tells us the number of rows\n",
    "                x = np.insert(X[i], 0, 1)#insert capital B : x has all xi and ,\n",
    "                print(\"Input array\")\n",
    "                print(x)\n",
    "                y = self.predict(x)\n",
    "                e = d[i] - y\n",
    "                self.W = self.W + self.lr * e * x\n",
    "                print(\"The weight vector after updation:\")\n",
    "                print(self.W)\n",
    "# def rename_reshape():\n",
    "    \n",
    "# def create_csv():\n",
    "    \n",
    "# def create_input():\n",
    "    \n",
    "# def create_target():\n",
    "    \n",
    "if __name__ == '__main__':\n",
    "    img = cv2.imread(r\"Users/ayushsingh/Desktop/NFT/001.jpeg\", 0)\n",
    "    #img2 = Image.open(r\"C:\\Users\\Anand\\Desktop\\Nft\\001.jpeg\")\n",
    "    #print(img)\n",
    "    Y = np.array(img)\n",
    "    Y = Y.flatten()\n",
    "    Y = Y[:10]\n",
    "    print(Y)\n",
    "    #x,y = img2.size\n",
    "    #print(x)\n",
    "    #print(y)\n",
    "    #for i in range(0,x):\n",
    "     #   for j in range(0,y):\n",
    "      #      print(img[i][j])\n",
    "\n",
    "    #for d in csv.DictReader(open(r\"C:\\Users\\Anand\\Desktop\\Nft\\trail.csv\"), delimiter=','):\n",
    "     #   print(d)\n",
    "    #\"\"\"df = pd.read_csv(r\"C:\\Users\\Anand\\Desktop\\Nft\\Final.csv\")\n",
    "    #images= df[\"Image\"] #you can also use df['column_name']\n",
    "    #labels=df[\"label\"]\n",
    "    #print(images)\n",
    "    #print(labels)\"\"\"\n",
    "    colnames = [\"Image\",\"label\"]\n",
    "    data = pd.read_csv(r\"Users/ayushsingh/Desktop/NFT/Final.csv\", names=colnames)\n",
    "    images = data.Image.tolist()\n",
    "    labels = data.label.tolist()\n",
    "    images = images[1:]\n",
    "    labels = labels[1:]\n",
    "   # print(images)\n",
    "   # print(labels)\n",
    "    inp_X = []\n",
    "   #cv_img = []\n",
    "    for img in glob.glob(r\"Users/ayushsingh/Desktop/NFT/*.jpeg\"):\n",
    "        n = cv2.imread(img,0)\n",
    "        #cv_img.append(n)\n",
    "        X = np.array(n)\n",
    "        X = X.flatten()\n",
    "        X = X[:10]\n",
    "        print(\"The image array:\")\n",
    "        print(X)\n",
    "        inp_X.append(X)\n",
    "#     for f in os.listdir():\n",
    "#         img = cv2.imread(f,0);\n",
    "#         X = np.array(img)\n",
    "#         X = X.flatten()\n",
    "#         X = X[:10]\n",
    "#         print(\"The image array:\")\n",
    "#         print(X)\n",
    "#         inp_X.append(X)\n",
    "    print(inp_X)\n",
    "    print(inp_X[0])\n",
    "#     inp=[]\n",
    " #    for i in inp_X:\n",
    "#         inp.append(i[0].astype('int32'))\n",
    "#     print(inp)\n",
    "#     #print(inp_X)\n",
    "#     #X = np.array(img)\n",
    "#     #X = X.flatten()\n",
    "#     #X = X[:10]\n",
    "#     print(X)\n",
    "#     print(X.ndim)\n",
    "#     print(X.size)\n",
    "#     d = np.array([0])\n",
    "    d = []\n",
    "    for i in labels:\n",
    "        d.append(int(i))\n",
    "    perceptron = Perceptron(inp_X[0].size)\n",
    "    perceptron.fit(inp_X, d)\n",
    "    print(perceptron.W)\n"
   ]
  },
  {
   "cell_type": "code",
   "execution_count": null,
   "metadata": {},
   "outputs": [],
   "source": []
  },
  {
   "cell_type": "code",
   "execution_count": null,
   "metadata": {},
   "outputs": [],
   "source": []
  }
 ],
 "metadata": {
  "kernelspec": {
   "display_name": "Python 3",
   "language": "python",
   "name": "python3"
  },
  "language_info": {
   "codemirror_mode": {
    "name": "ipython",
    "version": 2
   },
   "file_extension": ".py",
   "mimetype": "text/x-python",
   "name": "python",
   "nbconvert_exporter": "python",
   "pygments_lexer": "ipython2",
   "version": "2.7.15"
  }
 },
 "nbformat": 4,
 "nbformat_minor": 2
}
